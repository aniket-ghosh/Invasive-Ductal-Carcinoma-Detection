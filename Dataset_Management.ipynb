{
 "cells": [
  {
   "cell_type": "code",
   "execution_count": 1,
   "metadata": {},
   "outputs": [],
   "source": [
    "import os\n",
    "import shutil\n",
    "from shutil import copyfile"
   ]
  },
  {
   "cell_type": "code",
   "execution_count": 84,
   "metadata": {},
   "outputs": [],
   "source": [
    "def data_processing(source,train_zero,train_one,test_zero,test_one,split):\n",
    "    \n",
    "    num_zero = 198736\n",
    "    num_one = 78786\n",
    "    count_zero = 0\n",
    "    count_one = 1\n",
    "    for unitdata1 in os.listdir(source):\n",
    "        data1 = source+unitdata1\n",
    "        for unitdata2 in os.listdir(data1):\n",
    "            data2 = data1+\"/\"+unitdata2\n",
    "            if (unitdata2=='0'):\n",
    "                #copyfile(data2,zero+unitdata2)\n",
    "                zero = os.listdir(data2)\n",
    "                for unitdata3 in zero:\n",
    "                    data3 = data2+\"/\"+unitdata3\n",
    "                    if(count_zero<round(num_zero*split)):\n",
    "                        copyfile(data3,train_zero+unitdata3)\n",
    "                    else:\n",
    "                        copyfile(data3,test_zero+unitdata3)\n",
    "                    count_zero = count_zero+1\n",
    "            elif(unitdata2 =='1'):\n",
    "                #copyfile(data2,one+unitdata2)\n",
    "                one = os.listdir(data2)\n",
    "                for unitdata3 in one:\n",
    "                    data3 = data2+\"/\"+unitdata3\n",
    "                    if(count_one<round(num_one*split)):\n",
    "                        copyfile(data3,train_one+unitdata3)\n",
    "                    else:\n",
    "                        copyfile(data3,test_one+unitdata3)\n",
    "                    count_one = count_one+1\n",
    "                    \n",
    "    print(\"Moving of images done !!\")\n",
    "            \n",
    "                                "
   ]
  },
  {
   "cell_type": "code",
   "execution_count": 81,
   "metadata": {},
   "outputs": [],
   "source": [
    "path = os.getcwd()\n",
    "source = path+\"/breastCancer/\"\n",
    "train_zero = path+\"/dataset/Train/Non IDC/\"\n",
    "train_one  = path+\"/dataset/Train/IDC/\"\n",
    "test_zero = path+\"/dataset/Test/Non IDC/\"\n",
    "test_one = path+\"/dataset/Test/IDC/\""
   ]
  },
  {
   "cell_type": "code",
   "execution_count": 85,
   "metadata": {},
   "outputs": [
    {
     "name": "stdout",
     "output_type": "stream",
     "text": [
      "Moving of images done !!\n"
     ]
    }
   ],
   "source": [
    "data_processing(source,train_zero,train_one,test_zero,test_one,split=0.9)"
   ]
  }
 ],
 "metadata": {
  "kernelspec": {
   "display_name": "Python 3",
   "language": "python",
   "name": "python3"
  },
  "language_info": {
   "codemirror_mode": {
    "name": "ipython",
    "version": 3
   },
   "file_extension": ".py",
   "mimetype": "text/x-python",
   "name": "python",
   "nbconvert_exporter": "python",
   "pygments_lexer": "ipython3",
   "version": "3.6.1"
  }
 },
 "nbformat": 4,
 "nbformat_minor": 4
}
